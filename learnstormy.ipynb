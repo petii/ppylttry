{
 "metadata": {
  "orig_nbformat": 2,
  "kernelspec": {
   "name": "python3",
   "display_name": "Python 3",
   "language": "python"
  }
 },
 "nbformat": 4,
 "nbformat_minor": 2,
 "cells": [
  {
   "cell_type": "code",
   "execution_count": 116,
   "metadata": {},
   "outputs": [],
   "source": [
    "import pandas\n",
    "\n",
    "data = pandas.read_csv('data/five.csv').drop(columns='date')\n",
    "numbers = data[['num.1','num.2','num.3','num.4','num.5']]\n",
    "# data = data[data.year > 1997]"
   ]
  },
  {
   "cell_type": "code",
   "execution_count": 117,
   "metadata": {},
   "outputs": [],
   "source": [
    "# it would be nice to continue the scatter pattern somehow\n",
    "\n",
    "# plan1: make a GAN\n",
    "#   input: year+week\n",
    "#   output: 90 long vector each item between 0 and 1 with a sum of 5 hopefully\n",
    "# and see what happens\n",
    "# training + test data: parse winning numbers into this 90 long vector"
   ]
  },
  {
   "cell_type": "code",
   "execution_count": 118,
   "metadata": {},
   "outputs": [],
   "source": [
    "# create a custom dataset\n",
    "\n",
    "from torch.utils.data import Dataset\n",
    "\n",
    "class LotteryNumbers(Dataset):\n",
    "    def __init__(self, df, transform = None, target_transform = None):\n",
    "        self.df = df\n",
    "\n",
    "    def __len__(self):\n",
    "        return len(self.df)\n",
    "\n",
    "    def __getitem__(self, idx):\n",
    "        nums = self.df.iloc[idx].map(lambda x: x-1)\n",
    "        result = torch.zeros(90)\n",
    "        result[nums] = 1\n",
    "        return result\n",
    "\n",
    "def parseTensor(t):\n",
    "    return list(numpy.where(t == 1)[0] + 1)\n"
   ]
  },
  {
   "cell_type": "code",
   "execution_count": 119,
   "metadata": {},
   "outputs": [],
   "source": [
    "from torch.utils.data import DataLoader\n",
    "\n",
    "batch_size = 64\n",
    "workers = 2\n",
    "\n",
    "dataset = LotteryNumbers(numbers)\n",
    "dataloader = DataLoader(dataset, batch_size=batch_size, shuffle=True, num_workers=workers)\n",
    "device = torch.device('cpu')\n",
    "\n",
    "# test_batch = next(iter(dataloader))\n",
    "# test_batch\n",
    "# batch = [parseTensor(b) for b in test_batch]\n",
    "# batch\n",
    "# from matplotlib import pyplot\n",
    "# pyplot.scatter()"
   ]
  },
  {
   "cell_type": "code",
   "execution_count": null,
   "metadata": {},
   "outputs": [],
   "source": []
  }
 ]
}